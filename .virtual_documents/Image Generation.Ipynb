import numpy as np
import matplotlib.pyplot as plt





# 3D scene 

def plot_scene():
    fig = plt.figure()
    ax = fig.add_subplot(111, projection = "3d")

    # Plot the screen
    screen_x = [-1, -1, 1, 1, -1]
    screen_y = [0, 0, 0, 0, 0]
    screen_z = [-1, 1, 1 , -1, -1]
    ax.plot(screen_x, screen_y, screen_z, color = "blue", label = "screen")

    # Plot the camera point 
    camera_x = 0
    camera_y = -1
    camera_z = 0
    ax.scatter(camera_x, camera_y, camera_z, color = "green", label = "camera", s=150)

    # Plot the sphere 
    # Longitude zero to 2pi radians(0 to 360 degrees )
    u = np.linspace(0, 2 * np.pi, 100)
    # Colatitude zero to pi radians(0 to 180 degrees)
    v = np.linspace(0, np.pi, 100)
    # Switching to cartesian coordinates - Parametric equation of a sphere
    # R = 0,5 is the radius, the values after the outer product translate(move) the sphere to the desired location
    x = 0.5 * np.outer(np.cos(u), np.sin(v)) - 0.2
    y = 0.5 * np.outer(np.sin(u), np.sin(v)) + 5
    z = 0.5 * np.outer(np.ones(np.size(u)), np.cos(v)) - 1
    ax.plot_surface(x, y, z, color = "red", alpha = 0.6, label = "sphere")

    # Plot the lines from the camera to the screen corners
    screen_corners = [
        [-1, 0, -1],
        [1, 0, -1],
        [1, 0, 1],
        [-1, 0, 1]
    ]

    for corner in screen_corners:
        ax.plot([camera_x, corner[0]], [camera_y, corner[1]], [camera_z, corner[2]], 'k--')

    # Setting the correct labels
    ax.set_xlabel("X")
    ax.set_ylabel("Z")
    ax.set_zlabel("Y")

    # Setting the title and legend
    ax.set_title("3D Scene")
    ax.legend()
    ax = plt.gca()
    # Remove ticks
    ax.xaxis.set_ticklabels([])
    ax.yaxis.set_ticklabels([])
    ax.zaxis.set_ticklabels([])
    for line in ax.xaxis.get_ticklines():
        line.set_visible(False)
    for line in ax.yaxis.get_ticklines():
        line.set_visible(False)
    for line in ax.zaxis.get_ticklines():
        line.set_visible(False)
    plt.savefig("3d_scene.png")
    plt.show()

plot_scene()


# Surface normal for sphere

def plot_surface_normal():
    x = np.linspace(-1, 1, 2000)
    f = lambda x: np.sqrt(1 - x ** 2)
    y = f(x)
    plt.plot(x, y, c = "r")
    f = lambda x: -np.sqrt( 1 - x ** 2)
    y = f(x)
    plt.plot(x, y, c="r", label = "sphere surface")
    ax = plt.gca()
    plt.scatter(0, 1, label = "surface point", color = "magenta")
    ax.hlines(y = 1, xmin = -1, xmax = 1, linewidth = 2, color = "blue")
    x_pos = [0]
    y_pos = [1]
    x_direct = [0]
    y_direct = [1]
    plt.quiver(x_pos, y_pos, x_direct, y_direct,angles = "xy", scale_units = "xy", scale = 1, label= "Surface normal")
    plt.scatter(0, 0, color = "red")
    plt.xlabel("x")
    plt.ylabel("y")
    plt.axis("off")
    plt.axis([-4, 4, -4, 4])
    plt.legend(loc= 'lower right')
    plt.gca().set_aspect("equal")
    plt.title("Normal vector to a point on the surface of a sphere")
    plt.savefig("surface_normal.png")
    plt.show()

plot_surface_normal()


# Sphere intersection cases

def normalize(vector):
    unit_vector = vector / np.linalg.norm(vector)
    return unit_vector

def sphere_intersect(center, radius, ray_start, ray_direction):
    L = ray_start - center
    a = np.dot(ray_direction, ray_direction)
    b = 2 * np.dot(ray_direction, L)
    c = np.dot(L, L) - radius * radius
    delta = b * b - 4 * a * c
    if delta < 0:
        return None, None
    elif delta == 0:
        t = -b / 2
        return t, None
    elif delta > 0:
        t1 = (-b + np.sqrt(delta)) / (2 * a)
        t2 = (-b - np.sqrt(delta)) / (2 * a)
        if t1 > 0 and t2 > 0:
            return t2, t1
    

def plot_intersection_cases(ray_start, ray_direction, center, radius, ax, title):
    t1, t2 = sphere_intersect(center, radius, ray_start, ray_direction)

    # Plot the sphere
    u, v =np.mgrid[0:2 * np.pi : 20j, 0: np.pi:10j]
    x = center[0] + radius * np.cos(u) * np.sin(v)
    y = center[1] + radius * np.sin(u) * np.sin(v)
    z = center[2] + radius * np.cos(v)
    ax.plot_wireframe(x, y, z, color = "c", alpha = 0.3)

    # Plot the ray
    t = np.linspace(0, 10, 100)
    ray_x = ray_start[0] + t * ray_direction[0]
    ray_y = ray_start[1] + t * ray_direction[1]
    ray_z = ray_start[2] + t * ray_direction[2]
    ax.plot(ray_x, ray_y, ray_z, color = "m")
    legend = False

    # Plot intersections
    if t1 is not None:
        intersection_1 = ray_start + t1 * ray_direction
        ax.scatter(*intersection_1, color = "r", s = 100, label = "Intersection 1")
        legend = True
    if t2 is not None:
        intersection_2 = ray_start + t2 * ray_direction
        ax.scatter(*intersection_2, color = "b", s = 100, label = "Intersection 2")
        legend = True

    # Make the plot cleaner
    
    # Title
    ax.set_title(title)
    # Equal aspect ratio
    ax.set_box_aspect([1, 1, 1])
    # Remove ticks and axes
    ax.set_xticks([])
    ax.set_yticks([])
    ax.set_zticks([])
    ax.set_axis_off()
    # Legend
    if legend:
        ax.legend()

fig = plt.figure(figsize = (18, 6))

# Set up
center = np.array([3, 3, 3])
radius = 3
ray_start = np.array([0, 0, 0])

# Case 1: Zero intersections
ax1 = fig.add_subplot(131, projection = "3d")
ray_direction = normalize(np.array([1, 0, 4]))
plot_intersection_cases(ray_start, ray_direction, center, radius, ax1, "Zero Intersections \n $\Delta$ < 0")

# Case 2: One Intersection (Tangent)
ax2 = fig.add_subplot(132, projection = "3d")
ray_direction = normalize(np.array([1, 0, 1]))
plot_intersection_cases(ray_start, ray_direction, center, radius, ax2, "One Intersection \n $\Delta$ = 0")

# Case 3: Two Intersection 
ax3 = fig.add_subplot(133, projection = "3d")
ray_direction = normalize(np.array([3, 3, 2]))
plot_intersection_cases(ray_start, ray_direction, center, radius, ax3, "Two Intersections \n $\Delta$ > 0")

plt.tight_layout()
plt.savefig("intersection_cases.png", bbox_inches = "tight")
plt.show()

