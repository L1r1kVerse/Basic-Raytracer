# Import the libraries we will be using
import numpy as np
import matplotlib.pyplot as plt
%timeit





























def get_pixel_coordinates(width, height):
    ratio = float(width / height)
    # set up screen tuple with left, top, right and bottom
    screen = (-1, 1 / ratio, 1, -1 / ratio)
    x_coordinates = np.linspace(screen[0], screen[2], width)
    y_coordinates = np.linspace(screen[1], screen[3], height)
    coordinates = (y_coordinates, x_coordinates)
    return coordinates

def normalize(vector):
    unit_vector = vector / np.linalg.norm(vector)
    return unit_vector

    
# Set up the scene
camera =np.array([0, 0, 1])
width = 300
height = 200
screen = get_pixel_coordinates(width, height)

image = np.zeros((height, width, 3))


# ALgorithm skeleton
for i, y in enumerate(screen[0]):
    for j, x in enumerate(screen[1]):
        pixel = np.array([x, y, 0])
        start = camera
        d = pixel - start
        direction = normalize(d)
# Save results
plt.imsave("image.png", image)








def normalize_vector(vector):
    vector_np = np.array(vector)
    magnitude = np.sqrt(np.sum(np.square(vector_np)))
    unit_vector = vector_np / magnitude
    return unit_vector

# Test Normalize
test_vector = np.array([0, 0, 100]) 
print(normalize_vector(test_vector))





def normalize_np(vector):
    unit_vector = vector / np.linalg.norm(vector)
    return unit_vector

test_vector = np.random.randint(100, size = 1000)
print(len(test_vector))

unit = normalize_vector(test_vector) 
unit_np = normalize_np(test_vector)
print(np.array_equal(unit, unit_np))

print("Time performance without built in function.")
%timeit normalize_vector(test_vector)
print("Time performance with built in function.")
%timeit normalize_np(test_vector)



































def newton_method(function, derivative, initial_guess, precision = 1e-7, max_iteration = 1000):
    x = initial_guess
    for n in range(0, max_iteration):
        # Evaluate the function and the derivative for the current guess.
        fx = function(x)
        dfx = derivative(x)
        if (dfx == 0):
            raise ValueError("The derivative is zero. Newton's method fails.")
        # Update the guess using the formula
        x_new = x - fx / dfx
        # Check if new guess is within a predefined parameter of the previous guess.
        if(np.absolute(x_new - x) < precision):
            print("Solution found after", n , "iterations.")
            return x_new
        x = x_new
    raise ValueError("Maximum number of iterations reached. No root found.")





# Test the implementation of Newton's Method
poly = np.polynomial.Polynomial([-5, -2, 0, 1])
derivative = lambda x : 3 * x**2 - 2
root  = newton_method(poly, derivative , 2)  
print("The polynomial we are working with is:", poly)
print("Its root that is close to the initial guess of 2  calculated by the above implementation of the Newton method is:", root)
print("The same root calculate by Numpy Polynomial.roots() is                                                          ", poly.roots()[-1]) 





















def newton_method_for_inverse_square_root(i, guess, max_iterations):
    current_guess = guess 
    xhalf = i / 2
    for n in range(0, max_iterations ):
        new_guess= current_guess * (float(1.5) - xhalf * current_guess * current_guess)
        current_guess= new_guess
    return new_guess

result = newton_method_for_inverse_square_root(2,1,4)
print(result)





# Set up for the test(i = 2), five iterations
i = 2
initial_guess = 1
max_iterations = 6
results_of_approximation = []

for n in range(1, max_iterations):
    result = newton_method_for_inverse_square_root(i, initial_guess, n)
    results_of_approximation.append(result)

results_of_approximation_np = np.array(results_of_approximation)
results_in_percentage = (results_of_approximation_np / (1 / np.sqrt(2))) * 100

# Printing results
print("Approximation results after each iteration:")
print(results_of_approximation)
print("Approximations as a percentage of the actual value:")
print(results_in_percentage)
# Plotting results
plt.figure(figsize = (10, 6))
plt.plot(range(1,len(results_of_approximation_np)+1), results_of_approximation_np, marker = "o", linestyle = "--", color = "b", label = "Successive Approximations")
actual_value = 1 / np.sqrt(2)
plt.axhline(actual_value, color = "r",  linestyle = "-", label ="Actual approximate value")
plt.xlabel("number of iterations")
plt.ylabel("Approximated Value")
plt.title("Convergence of Newton's method")
plt.xticks(range(1, 6))
plt.legend()
plt.show()











plt.imshow(image)
plt.title("A black void, exactly as expected!")
plt.axis('off')
plt.savefig("test.png", bbox_inches='tight')





# Add a sphere
objects = [{"center":np.array([-0,2, -0.0, -1])}]




















def sphere_intersect(center, radius, ray_start, ray_direction):
    L = ray_start - center
    b = 2 * np.dot(ray_direction, L)
    c = np.dot(L, L) - radius * radius
    delta = b * b - 4 * c
    if delta > 0:
        t1 = (-b + np.sqrt(delta)) / 2
        t2 = (-b - np.sqrt(delta)) / 2
        if t1 > 0 and t2 > 0:
            return np.min(t1, t2)
    return np.inf





def get_pixel_coordinates(width, height):
    ratio = float(width / height)
    # set up screen tuple with left, top, right and bottom
    screen = (-1, 1 / ratio, 1, -1 / ratio)
    x_coordinates = np.linspace(screen[0], screen[2], width)
    y_coordinates = np.linspace(screen[1], screen[3], height)
    coordinates = (y_coordinates, x_coordinates)
    return coordinates

def normalize(vector):
    unit_vector = vector / np.linalg.norm(vector)
    return unit_vector

def sphere_intersect(center, radius, ray_start, ray_direction):
    L = ray_start - center
    b = 2 * np.dot(ray_direction, L)
    c = np.dot(L, L) - radius * radius
    delta = b * b - 4 * c
    if delta > 0:
        t1 = (-b + np.sqrt(delta)) / 2
        t2 = (-b - np.sqrt(delta)) / 2
        if t1 > 0 and t2 > 0:
            return min(t1, t2)
    return np.inf

    
# Set up the scene
camera = np.array([0, 0, 1])
width = 300
height = 200
screen = get_pixel_coordinates(width, height)

image = np.zeros((height, width, 3))

# Objects in the scene
objects = [{"center":np.array([-0,2, 0.0, -1])}]

# ALgorithm skeleton
for i, y in enumerate(screen[0]):
    for j, x in enumerate(screen[1]):
        pixel = np.array([x, y, 0])
        start = camera
        d = pixel - start
        direction = normalize(d)
        intersection = sphere_intersect(np.array([-0.2, -0.0, -1]), 0.5, start, direction)
        if(intersection != np.inf):
            image[i, j]= np.clip([255, 0, 0], 0, 1)
# Save results
plt.imsave("image.png", image)
plt.imshow(image)
plt.axis("off")
plt.title("We finally have something that resembles a sphere!")
plt.savefig("test.png", bbox_inches='tight')





def get_boundary_red_pixels(image):
    # Define red
    red = np.array([1.0, 0.0, 0.0])
    # Find all red pixels
    red_pixels = np.all(image == red, axis = -1)
    # Create arrays of indexes of non-zero elements by axis
    rows, cols = np.where(red_pixels)
    if len(rows) > 0 and len(cols) > 0:
        first_red_row = np.min(rows)
        last_red_row = np.max(rows)
        first_red_col = np.min(cols)
        last_red_col = np.max(cols)
        return (first_red_row, last_red_row, first_red_col, last_red_col)
    else:
        return None

img = image
indexes = get_boundary_red_pixels(img)
print(indexes)

# Cut the square
# The +1 correction for the last indexes is needed to include them
square_cut = image[indexes[0]:indexes[1]+1, indexes[2]:indexes[3]+1]
plt.imshow(square_cut)


# Red color is [1.0, 0.0, 0.0]
def red_pixel_counter(square):
   red = np.array([1.0, 0.0, 0.0])
   red_pixels = np.all(square == red, axis = -1)
   result = np.sum(red_pixels)
   return result

red_pixels = red_pixel_counter(square_cut)
total_pixels = (np.array(square_cut).size) / 3
pi_estimate= 4 * (red_pixels / total_pixels)
print("Our estimate is:                                                                     ", pi_estimate)
pi_estimated_by_1280X720 = 3.141876597298284
print("Running the same code with a resolution of 1280 by 720 pixels produces an estimate of", pi_estimated_by_1280X720)
print("The actual value of r$\Pi$ up to fifteen decimal places is:                          ", np.pi)














def get_surface_normal(object, ray_start, ray_direction,t,center):
    if object == "sphere":
        intersection_point = ray_start + (t * ray_direction)
        surface_normal = normalize(intersection_point - center)
    return surface_normal





def get_object_pixel_color(surface_normal):
    color = 0.5*(surface_normal + 1)
    return color





def get_gradient_color(y, screen_top, screen_bottom):
    # Normalize y to the range [0, 1]
    normalized_y = (y - screen_bottom) / (screen_top - screen_bottom)
    # Compute the color as a mix between blue and white
    blue = np.array([0, 0, 1])
    white = np.array([1, 1, 1])
    color = blue * (1 - normalized_y) + white * normalized_y
    return np.clip(color, 0, 1)






def get_pixel_coordinates(width, height):
    ratio = float(width / height)
    # set up screen tuple with left, top, right and bottom
    screen = (-1, 1 / ratio, 1, -1 / ratio)
    x_coordinates = np.linspace(screen[0], screen[2], width)
    y_coordinates = np.linspace(screen[1], screen[3], height)
    coordinates = (y_coordinates, x_coordinates)
    return coordinates

def normalize(vector):
    unit_vector = vector / np.linalg.norm(vector)
    return unit_vector

def sphere_intersect(center, radius, ray_start, ray_direction):
    L = ray_start - center
    b = 2 * np.dot(ray_direction, L)
    c = np.dot(L, L) - radius * radius
    delta = b * b - 4 * c
    if delta > 0:
        t1 = (-b + np.sqrt(delta)) / 2
        t2 = (-b - np.sqrt(delta)) / 2
        if t1 > 0 and t2 > 0:
            return min(t1, t2)
    return np.inf

def get_surface_normal(object, ray_start, ray_direction,t,center):
    if object == "sphere":
        intersection_point = ray_start + (t * ray_direction)
        surface_normal = normalize(intersection_point - center)
    return surface_normal

def get_object_pixel_color(surface_normal):
    color = 0.5*(surface_normal + 1)
    return color

def get_gradient_color(y, screen_top, screen_bottom):
    # Normalize y to the range [0, 1]
    normalized_y = (y - screen_bottom) / (screen_top - screen_bottom)
    # Compute the color as a mix between blue and white
    blue = np.array([0, 0, 1])
    white = np.array([1, 1, 1])
    color = blue * (1 - normalized_y) + white * normalized_y
    return np.clip(color, 0, 1)

    
# Set up the scene
camera = np.array([0, 0, 1])
width = 1280
height = 720
screen = get_pixel_coordinates(width, height)

image = np.zeros((height, width, 3))

# Objects in the scene
objects = [{"center":np.array([-0,2, 0.0, -1])}]

# ALgorithm skeleton
for i, y in enumerate(screen[0]):
    for j, x in enumerate(screen[1]):
        pixel = np.array([x, y, 0])
        start = camera
        d = pixel - start
        direction = normalize(d)
        inter = sphere_intersect(np.array([-0.2, -0.0, -1]), 0.5, start, direction)
        color = None
        if(inter != np.inf):
            color = get_object_pixel_color(get_surface_normal("sphere", start, direction, inter, np.array([-0.2, -0.0, -1])))
        else:
            color = get_gradient_color(y,screen[0][0], screen[0][-1])
        image[i, j]= color
            
    
# Save results
plt.imsave("image.png", image)
plt.imshow(image)
plt.axis("off")
plt.title("A not so pale blue dot.")
plt.savefig("output.png", bbox_inches='tight')











def plane_intersect(known_point, normal, ray_start, ray_direction):
    denominator = np.dot(ray_direction, normal)
    if np.abs(denominator) < 1e-6:
        return np.inf
    t = np.dot(known_point - ray_start, normal) / denominator
    if t < 0:
        return np.inf
    return t








def add_sphere(center, radius):
    return dict(type = "sphere", center = np.array(center) , radius = np.array(radius))

def add_plane(known_point, normal):
    return dict(type = "plane", known_point = np.array(known_point), normal = np.array(normal))





def intersect(ray_start, ray_direction, obj):
    if obj["type"] == "sphere":
        return sphere_intersect(obj["center"], obj["radius"], ray_start, ray_direction)
    elif obj["type"] == "plane":
        return plane_intersect( obj["known_point"], obj["normal"], ray_start, ray_direction)





def cast_shadow_ray(intersection_point, surface_normal, correction_step, light_source, scene):
    start = intersection_point + correction_step * surface_normal
    direction = normalize(light_source - start)
    for obj in scene:
        if intersect(start, direction, obj) != np.inf:
            return True
    return False





def get_pixel_coordinates(width, height):
    """
    Calculate the pixel coordinates for the screen base on the given resolution.

    Parameters:
    width(int):The width of the screen
    height(int):The height of the screen

    Returns:
    tuple: Two arrays, the first containing the Y coordinates and the second containing the X coordinates. 
    """
    ratio = float(width) / height
    screen = (-1, 1 / ratio, 1, -1 / ratio)
    x_coordinates = np.linspace(screen[0], screen[2], width)
    y_coordinates = np.linspace(screen[1], screen[3], height)
    coordinates = (y_coordinates, x_coordinates)
    return coordinates

def normalize(vector):
    """
    Normalize a vector to have a magnitude of one.

    Parameters:
    vector (ndarray): The input vector to be normalized.

    Returns:
    ndarray: The normalized unit vector.
    """
    unit_vector = vector / np.linalg.norm(vector)
    return unit_vector

def intersect(ray_start, ray_direction, obj):
    """
    Determine the intersection of a ray with an object in the scene.

    Parameters:
    ray_start (ndarray): The initial point of the ray (3D point).
    ray_direction (ndarray): The normalized direction vector of the ray.
    obj (dict): The object to check for intersection, containing its type and relevant parameters.

    Returns:
    float: The distance to the intersection point, or np.inf if no intersection is found.
    """
    if obj["type"] == "sphere":
        return sphere_intersect(obj["center"], obj["radius"], ray_start, ray_direction)
    elif obj["type"] == "plane":
        return plane_intersect(obj["known_point"], obj["normal"], ray_start, ray_direction)
    
def sphere_intersect(center, radius, ray_start, ray_direction):
    """
    Calculate the intersection of a ray with a sphere.

    Parameters:
    center (ndarray): The center of the sphere(3D point).
    radius (float): The radius of the sphere.
    ray_start (ndarray): The initial point of the ray (3D point).
    ray_direction (ndarray): The normalized direction vector of the ray.

    Returns:
    float: The distance to the intersection point, or np.inf if no intersection is found.
    """
    L = ray_start - center
    b = 2 * np.dot(ray_direction, L)
    c = np.dot(L, L) - radius * radius
    delta = b * b - 4 * c
    if delta > 0:
        t1 = (-b + np.sqrt(delta)) / 2
        t2 = (-b - np.sqrt(delta)) / 2
        if t1 > 0 and t2 > 0:
            return min(t1, t2)
    return np.inf

def plane_intersect(known_point, normal, ray_start, ray_direction):
    """
    Calculate the intersection of a ray with a plane.

    Parameters:
    known_point(ndarray): A known point on the plane (3D point).
    normal (ndarray): THe normal vector of the plane.
    ray_start (ndarray): The initial point of the ray (3D point).
    ray_direction (ndarray): The normalized direction vector of the ray.

    Returns:
    float: The distance to the intersection point, or np.inf if no intersection is found.
    """
    denominator = np.dot(ray_direction, normal)
    if np.abs(denominator) < 1e-6:
        return np.inf
    t = np.dot(known_point - ray_start, normal) / denominator
    if t < 0 :
        return np.inf
    return t

def add_sphere(center, radius):
    """
    Create a sphere object.

    Parameters:
    center (list of floats or ndarray): The center of the sphere (3D Point)
    radius (float): The radius of the sphere.

    Returns:
    dict: A dictionary representing the sphere object.

    """
    return dict(type = "sphere", center = np.array(center), radius = np.array(radius))

def add_plane(known_point, normal):
    """
    Create a plane object.

    Parameters:
    known_point(list or ndarray): A known point on the plane (3D point)
    normal (list or ndarray): The normal vector of the plane.

    Returns:
    dict: A dictionary representing the plane object.
    """
    return dict(type = "plane", known_point = np.array(known_point), normal = np.array(normal))

def get_surface_normal(obj, intersection_point):
    """
    Calculate the surface normal at the intersection point for a given object.

    Parameters:
    obj (dict): The object for which to calculate the surface normal.
    intersection_point (ndarray): The point of intersection (3D point).

    Returns:
    ndarray: The normalized surface normal vector.
    """
    if obj["type"] == "sphere":
        return normalize(intersection_point - obj["center"])
    elif obj["type"] == "plane":
        return obj["normal"]
    
def cast_shadow_ray(intersection_point, surface_normal, correction_step, light_source, scene):
    """
    Determine if an intersection point is in shadow.

    Parameters:
    intersection_point (ndarray): The point of intersection (3D point).
    surface_normal (ndarray): The surface normal vector at the intersection point.
    correction_step (float): A small correction constant.
    light_source (ndarray): The position of the light source (3D point).
    scene (list): A list of objects in the scene (dictionaries).

    Returns:
    bool: True if the intersection is shadowed, False otherwise.
    """
    start = intersection_point + correction_step * surface_normal
    direction = normalize(light_source - start)
    for obj in scene:
        if intersect(start, direction, obj) != np.inf:
            return True
    return False

def get_object_pixel_color(surface_normal):
    """
    Calculate the color of a pixel based on the surface normal at the intersection point.

    Parameters:
    surface_normal (ndarray): The normalized surface normal vector.

    Returns:
    ndarray: The color of the pixel as an array.
    """
    color = 0.5 * (surface_normal + 1)
    return np.clip(color, 0, 1)

def get_gradient_color(y, screen_top, screen_bottom):
    """
    Calculate the gradient color for a background pixel.

    Parameters:
    y (float): The y-coordinate of the pixel.
    screen_top (float): The y-coordinate of the top of the screen.
    screen_bottom (float): The y-coordinate of the bottom of the screen.
    """
    # Normalize y to the range [0, 1]
    normalized_y = (y - screen_bottom) / (screen_top-screen_bottom)
    # compute the color as a mix between blue and white
    blue = np.array([0, 0, 1])
    white = np.array([1, 1, 1])
    color = blue * (1 - normalized_y)+ white * normalized_y
    return np.clip(color, 0, 1)

# Set up the scene
camera = np.array([0, 0, 1])
width = 1280
height = 720
screen = get_pixel_coordinates(width, height)

image = np.zeros((height, width, 3))

# Add objects to the scene
scene = [ add_sphere([-0.2, -0.0, -1], 0.5),
         add_plane([0.0, -0.5, -1], [0, 1, 0])]

# Add light source
light_source = np.array([5.0, 5.0, 5.0])

# Iterate over pixels
for i, y in enumerate(screen[0]):
    for j, x in enumerate(screen[1]):
        pixel = np.array([x, y, 0])
        start = camera
        direction = normalize(pixel - start)
        nearest_t = np.inf
        nearest_object = None

        # Iterate over objects in the scene
        for obj in scene:
            t = intersect(start, direction, obj)
            if  t < nearest_t:
                nearest_t = t
                nearest_object = obj
        
        # If intersection with an object exists
        if nearest_t != np.inf:
            intersection_point = start + nearest_t * direction
            surface_normal =  get_surface_normal(nearest_object, intersection_point)
            correction_step = 1e-5
            # Check if intersection point is shadowed
            shadowed = cast_shadow_ray(intersection_point, surface_normal, correction_step, light_source, scene)
            if shadowed:
                # In shadow, so darker
                color = get_object_pixel_color(surface_normal) * 0.5
            else:
                color = get_object_pixel_color(surface_normal)
        # No intersection so color background with gradient color
        else :
            color = get_gradient_color(y, screen[0][0], screen[0][-1])
        
        # Set pixel color
        image[i, j] = color

# Save and show result
plt.imsave("image.png", image)
plt.imshow(image)
plt.axis("off")
plt.title("The final result:")
plt.savefig("result.png", bbox_inches =  "tight")
plt.show()















